{
 "cells": [
  {
   "cell_type": "code",
   "execution_count": 7,
   "metadata": {},
   "outputs": [
    {
     "name": "stdout",
     "output_type": "stream",
     "text": [
      "[0.000488056572209577, 0.9506191260497893]\n"
     ]
    },
    {
     "data": {
      "image/png": "[encoded data removed]",
      "text/plain": [
       "<Figure size 432x288 with 1 Axes>"
      ]
     },
     "metadata": {
      "needs_background": "light"
     },
     "output_type": "display_data"
    }
   ],
   "source": [
    "import matplotlib.pyplot as plt\n",
    "import math\n",
    "def derivativeW0(w,x,y):\n",
    "    s = 0\n",
    "    for i in range(len(x)):\n",
    "        s += (w[1] * x[i] + w[0] - y[i])\n",
    "    return s/len(x)\n",
    "\n",
    "def derivativeW1(w,x,y):\n",
    "    s = 0\n",
    "    for i in range(len(x)):\n",
    "        s += (w[1] * x[i] + w[0] - y[i])*x[i]\n",
    "    return s/len(x)\n",
    "\n",
    "'''def derivative(w, x, y):\n",
    "    s = [0, 0]\n",
    "    for i in range(len(x)):\n",
    "        h = (w[1] * x[i] + w[0] - y[i])\n",
    "        s[0] += h\n",
    "        s[1] += h * x[i]\n",
    "    for i in range(2):\n",
    "        s[i] /= len(x)\n",
    "    return s'''\n",
    "\n",
    "def average(a):\n",
    "    s = 0\n",
    "    for v in a:\n",
    "        s += v\n",
    "    return s/len(a)\n",
    "\n",
    "def variance(a):\n",
    "    s = 0\n",
    "    avg = average(a)\n",
    "    for v in a:\n",
    "        s += (v - avg)**2\n",
    "    return s/len(a)  #var sample: s/(len(a) - 1)\n",
    "\n",
    "def standarddeviation(a):\n",
    "    return math.sqrt(variance(a))\n",
    "\n",
    "def normalization(a):\n",
    "    avg = average(a)\n",
    "    sd = standarddeviation(a)\n",
    "    for i in range(len(a)):\n",
    "        a[i] = (a[i] - avg)/sd\n",
    "    return a\n",
    "\n",
    "alpha = 0.01\n",
    "error = 1\n",
    "x = [2,6,8,8,12,16,20,20,22,26]\n",
    "y = [58,105,88,118,117,137,157,169,149,202]\n",
    "w = [3,4]\n",
    "normalization(x)\n",
    "normalization(y)\n",
    "\n",
    "#for i in range(1000):\n",
    "while error > 0.00001:\n",
    "    v = [0,0]\n",
    "    v[0] = w[0] - alpha * derivativeW0(w,x,y)\n",
    "    v[1] = w[1] - alpha * derivativeW1(w,x,y)\n",
    "    error = abs(w[0] - v[0]) + abs(w[1] - v[1])\n",
    "    w = v\n",
    "print(w)\n",
    "\n",
    "'''while error > 0.0000001:\n",
    "    v = [0, 0]\n",
    "    s = derivative(w, x, y)\n",
    "    error = 0\n",
    "    for i in range(2):\n",
    "        v[i] = w[i] - alpha * s[i]\n",
    "        error += abs(w[i] - v[i])\n",
    "    w = v\n",
    "print(w)'''\n",
    "\n",
    "px = [x[0], x[-1]]\n",
    "py = [w[1] * x[0] + w[0], w[1] * x[-1] + w[0]]\n",
    "plt.plot(px, py)\n",
    "plt.scatter(x,y)\n",
    "plt.show()\n"
   ]
  }
 ],
 "metadata": {
  "interpreter": {
   "hash": "cc5f70855ac006f3de45a3cc3b9e7d8d53845e50458809cb162b0174266dec97"
  },
  "kernelspec": {
   "display_name": "Python 3.8.5 64-bit ('base': conda)",
   "language": "python",
   "name": "python3"
  },
  "language_info": {
   "codemirror_mode": {
    "name": "ipython",
    "version": 3
   },
   "file_extension": ".py",
   "mimetype": "text/x-python",
   "name": "python",
   "nbconvert_exporter": "python",
   "pygments_lexer": "ipython3",
   "version": "3.8.5"
  },
  "orig_nbformat": 4
 },
 "nbformat": 4,
 "nbformat_minor": 2
}
